{
 "cells": [
  {
   "cell_type": "markdown",
   "metadata": {},
   "source": [
    "# 1. Import Dependencies"
   ]
  },
  {
   "cell_type": "code",
   "execution_count": 2,
   "metadata": {},
   "outputs": [
    {
     "name": "stdout",
     "output_type": "stream",
     "text": [
      "Collecting opencv-python\n",
      "  Using cached opencv_python-4.6.0.66-cp36-abi3-win_amd64.whl (35.6 MB)\n",
      "Collecting numpy>=1.14.5\n",
      "  Using cached numpy-1.21.6-cp37-cp37m-win_amd64.whl (14.0 MB)\n",
      "Installing collected packages: numpy, opencv-python\n",
      "Successfully installed numpy-1.21.6 opencv-python-4.6.0.66\n"
     ]
    }
   ],
   "source": [
    "!pip install opencv-python"
   ]
  },
  {
   "cell_type": "code",
   "execution_count": 1,
   "metadata": {},
   "outputs": [],
   "source": [
    "# Import opencv\n",
    "import cv2 \n",
    "\n",
    "# Import uuid\n",
    "import uuid\n",
    "\n",
    "# Import Operating System\n",
    "import os\n",
    "\n",
    "# Import time\n",
    "import time"
   ]
  },
  {
   "cell_type": "markdown",
   "metadata": {},
   "source": [
    "# 2. Define Images to Collect"
   ]
  },
  {
   "cell_type": "code",
   "execution_count": 6,
   "metadata": {},
   "outputs": [],
   "source": [
    "labels = ['Smoker_Alert']\n",
    "number_imgs = 40"
   ]
  },
  {
   "cell_type": "markdown",
   "metadata": {},
   "source": [
    "# 3. Setup Folders "
   ]
  },
  {
   "cell_type": "code",
   "execution_count": 3,
   "metadata": {},
   "outputs": [],
   "source": [
    "IMAGES_PATH = os.path.join('Tensorflow', 'workspace', 'images', 'collectedimages')"
   ]
  },
  {
   "cell_type": "code",
   "execution_count": 4,
   "metadata": {},
   "outputs": [],
   "source": [
    "if not os.path.exists(IMAGES_PATH):\n",
    "    if os.name == 'posix':\n",
    "        !mkdir -p {IMAGES_PATH}\n",
    "    if os.name == 'nt':\n",
    "         !mkdir {IMAGES_PATH}\n",
    "for label in labels:\n",
    "    path = os.path.join(IMAGES_PATH, label)\n",
    "    if not os.path.exists(path):\n",
    "        !mkdir {path}"
   ]
  },
  {
   "cell_type": "markdown",
   "metadata": {},
   "source": [
    "# 4. Capture Images"
   ]
  },
  {
   "cell_type": "code",
   "execution_count": 7,
   "metadata": {},
   "outputs": [
    {
     "name": "stdout",
     "output_type": "stream",
     "text": [
      "Collecting images for Smoker_Alert\n",
      "Collecting image 0\n",
      "Collecting image 1\n",
      "Collecting image 2\n",
      "Collecting image 3\n",
      "Collecting image 4\n",
      "Collecting image 5\n",
      "Collecting image 6\n",
      "Collecting image 7\n",
      "Collecting image 8\n",
      "Collecting image 9\n",
      "Collecting image 10\n",
      "Collecting image 11\n",
      "Collecting image 12\n",
      "Collecting image 13\n",
      "Collecting image 14\n",
      "Collecting image 15\n",
      "Collecting image 16\n",
      "Collecting image 17\n",
      "Collecting image 18\n",
      "Collecting image 19\n",
      "Collecting image 20\n",
      "Collecting image 21\n",
      "Collecting image 22\n",
      "Collecting image 23\n",
      "Collecting image 24\n",
      "Collecting image 25\n",
      "Collecting image 26\n",
      "Collecting image 27\n",
      "Collecting image 28\n",
      "Collecting image 29\n",
      "Collecting image 30\n",
      "Collecting image 31\n",
      "Collecting image 32\n",
      "Collecting image 33\n",
      "Collecting image 34\n",
      "Collecting image 35\n",
      "Collecting image 36\n",
      "Collecting image 37\n",
      "Collecting image 38\n",
      "Collecting image 39\n"
     ]
    }
   ],
   "source": [
    "for label in labels:\n",
    "    cap = cv2.VideoCapture(0)\n",
    "    print('Collecting images for {}'.format(label))\n",
    "    time.sleep(3)\n",
    "    for imgnum in range(number_imgs):\n",
    "        print('Collecting image {}'.format(imgnum))\n",
    "        ret, frame = cap.read()\n",
    "        imgname = os.path.join(IMAGES_PATH,label,label+'.'+'{}.jpg'.format(str(uuid.uuid1())))\n",
    "        cv2.imwrite(imgname, frame)\n",
    "        cv2.imshow('frame', frame)\n",
    "        time.sleep(4)\n",
    "\n",
    "        if cv2.waitKey(1) & 0xFF == ord('q'):\n",
    "            break\n",
    "cap.release()\n",
    "cv2.destroyAllWindows()"
   ]
  },
  {
   "cell_type": "markdown",
   "metadata": {},
   "source": [
    "# 5. Image Labelling"
   ]
  },
  {
   "cell_type": "code",
   "execution_count": 9,
   "metadata": {},
   "outputs": [
    {
     "name": "stdout",
     "output_type": "stream",
     "text": [
      "Collecting pyqt5\n",
      "  Using cached PyQt5-5.15.7-cp37-abi3-win_amd64.whl (6.8 MB)\n",
      "Collecting lxml\n",
      "  Using cached lxml-4.9.1-cp37-cp37m-win_amd64.whl (3.6 MB)\n",
      "Collecting PyQt5-sip<13,>=12.11\n",
      "  Using cached PyQt5_sip-12.11.0-cp37-cp37m-win_amd64.whl (77 kB)\n",
      "Collecting PyQt5-Qt5>=5.15.0\n",
      "  Using cached PyQt5_Qt5-5.15.2-py3-none-win_amd64.whl (50.1 MB)\n",
      "Installing collected packages: PyQt5-Qt5, PyQt5-sip, lxml, pyqt5\n",
      "Successfully installed PyQt5-Qt5-5.15.2 PyQt5-sip-12.11.0 lxml-4.9.1 pyqt5-5.15.7\n"
     ]
    }
   ],
   "source": [
    "!pip install --upgrade pyqt5 lxml"
   ]
  },
  {
   "cell_type": "code",
   "execution_count": 11,
   "metadata": {},
   "outputs": [],
   "source": [
    "LABELIMG_PATH = os.path.join('Tensorflow', 'labelimg')"
   ]
  },
  {
   "cell_type": "code",
   "execution_count": 11,
   "metadata": {},
   "outputs": [
    {
     "name": "stderr",
     "output_type": "stream",
     "text": [
      "Cloning into 'Tensorflow\\labelimg'...\n"
     ]
    }
   ],
   "source": [
    "if not os.path.exists(LABELIMG_PATH):\n",
    "    !mkdir {LABELIMG_PATH}\n",
    "    !git clone https://github.com/tzutalin/labelImg {LABELIMG_PATH}"
   ]
  },
  {
   "cell_type": "code",
   "execution_count": 12,
   "metadata": {},
   "outputs": [],
   "source": [
    "if os.name == 'posix':\n",
    "    !make qt5py3\n",
    "if os.name =='nt':\n",
    "    !cd {LABELIMG_PATH} && pyrcc5 -o libs/resources.py resources.qrc"
   ]
  },
  {
   "cell_type": "code",
   "execution_count": 13,
   "metadata": {},
   "outputs": [
    {
     "name": "stdout",
     "output_type": "stream",
     "text": [
      "Image:C:\\tensorflow\\TFODCourse\\Tensorflow\\workspace\\images\\collectedimages\\Smoker_Alert\\Smoker_Alert.01cc585e-7150-11ed-8e2c-18cc18c2ea3d.jpg -> Annotation:C:/tensorflow/TFODCourse/Tensorflow/workspace/images/collectedimages/Smoker_Alert\\Smoker_Alert.01cc585e-7150-11ed-8e2c-18cc18c2ea3d.xml\n",
      "Image:C:\\tensorflow\\TFODCourse\\Tensorflow\\workspace\\images\\collectedimages\\Smoker_Alert\\Smoker_Alert.069db18a-7150-11ed-8f22-18cc18c2ea3d.jpg -> Annotation:C:/tensorflow/TFODCourse/Tensorflow/workspace/images/collectedimages/Smoker_Alert\\Smoker_Alert.069db18a-7150-11ed-8f22-18cc18c2ea3d.xml\n",
      "Image:C:\\tensorflow\\TFODCourse\\Tensorflow\\workspace\\images\\collectedimages\\Smoker_Alert\\Smoker_Alert.069db18a-7150-11ed-8f22-18cc18c2ea3d.jpg -> Annotation:C:/tensorflow/TFODCourse/Tensorflow/workspace/images/collectedimages/Smoker_Alert\\Smoker_Alert.069db18a-7150-11ed-8f22-18cc18c2ea3d.xml\n",
      "Image:C:\\tensorflow\\TFODCourse\\Tensorflow\\workspace\\images\\collectedimages\\Smoker_Alert\\Smoker_Alert.090734e8-7150-11ed-aa22-18cc18c2ea3d.jpg -> Annotation:C:/tensorflow/TFODCourse/Tensorflow/workspace/images/collectedimages/Smoker_Alert\\Smoker_Alert.090734e8-7150-11ed-aa22-18cc18c2ea3d.xml\n",
      "Image:C:\\tensorflow\\TFODCourse\\Tensorflow\\workspace\\images\\collectedimages\\Smoker_Alert\\Smoker_Alert.ab051b1c-714f-11ed-a7c3-18cc18c2ea3d.jpg -> Annotation:C:/tensorflow/TFODCourse/Tensorflow/workspace/images/collectedimages/Smoker_Alert\\Smoker_Alert.ab051b1c-714f-11ed-a7c3-18cc18c2ea3d.xml\n",
      "Image:C:\\tensorflow\\TFODCourse\\Tensorflow\\workspace\\images\\collectedimages\\Smoker_Alert\\Smoker_Alert.ad75d1e4-714f-11ed-84cb-18cc18c2ea3d.jpg -> Annotation:C:/tensorflow/TFODCourse/Tensorflow/workspace/images/collectedimages/Smoker_Alert\\Smoker_Alert.ad75d1e4-714f-11ed-84cb-18cc18c2ea3d.xml\n",
      "Image:C:\\tensorflow\\TFODCourse\\Tensorflow\\workspace\\images\\collectedimages\\Smoker_Alert\\Smoker_Alert.afde5324-714f-11ed-ac09-18cc18c2ea3d.jpg -> Annotation:C:/tensorflow/TFODCourse/Tensorflow/workspace/images/collectedimages/Smoker_Alert\\Smoker_Alert.afde5324-714f-11ed-ac09-18cc18c2ea3d.xml\n",
      "Image:C:\\tensorflow\\TFODCourse\\Tensorflow\\workspace\\images\\collectedimages\\Smoker_Alert\\Smoker_Alert.b4b1b2e2-714f-11ed-90b0-18cc18c2ea3d.jpg -> Annotation:C:/tensorflow/TFODCourse/Tensorflow/workspace/images/collectedimages/Smoker_Alert\\Smoker_Alert.b4b1b2e2-714f-11ed-90b0-18cc18c2ea3d.xml\n",
      "Image:C:\\tensorflow\\TFODCourse\\Tensorflow\\workspace\\images\\collectedimages\\Smoker_Alert\\Smoker_Alert.b71a9a7e-714f-11ed-a3e4-18cc18c2ea3d.jpg -> Annotation:C:/tensorflow/TFODCourse/Tensorflow/workspace/images/collectedimages/Smoker_Alert\\Smoker_Alert.b71a9a7e-714f-11ed-a3e4-18cc18c2ea3d.xml\n",
      "Image:C:\\tensorflow\\TFODCourse\\Tensorflow\\workspace\\images\\collectedimages\\Smoker_Alert\\Smoker_Alert.b2483fe4-714f-11ed-a3d9-18cc18c2ea3d.jpg -> Annotation:C:/tensorflow/TFODCourse/Tensorflow/workspace/images/collectedimages/Smoker_Alert\\Smoker_Alert.b2483fe4-714f-11ed-a3d9-18cc18c2ea3d.xml\n",
      "Image:C:\\tensorflow\\TFODCourse\\Tensorflow\\workspace\\images\\collectedimages\\Smoker_Alert\\Smoker_Alert.b98339b4-714f-11ed-b25e-18cc18c2ea3d.jpg -> Annotation:C:/tensorflow/TFODCourse/Tensorflow/workspace/images/collectedimages/Smoker_Alert\\Smoker_Alert.b98339b4-714f-11ed-b25e-18cc18c2ea3d.xml\n",
      "Image:C:\\tensorflow\\TFODCourse\\Tensorflow\\workspace\\images\\collectedimages\\Smoker_Alert\\Smoker_Alert.bbea9d2e-714f-11ed-9d6b-18cc18c2ea3d.jpg -> Annotation:C:/tensorflow/TFODCourse/Tensorflow/workspace/images/collectedimages/Smoker_Alert\\Smoker_Alert.bbea9d2e-714f-11ed-9d6b-18cc18c2ea3d.xml\n",
      "Image:C:\\tensorflow\\TFODCourse\\Tensorflow\\workspace\\images\\collectedimages\\Smoker_Alert\\Smoker_Alert.be53846c-714f-11ed-a255-18cc18c2ea3d.jpg -> Annotation:C:/tensorflow/TFODCourse/Tensorflow/workspace/images/collectedimages/Smoker_Alert\\Smoker_Alert.be53846c-714f-11ed-a255-18cc18c2ea3d.xml\n",
      "Image:C:\\tensorflow\\TFODCourse\\Tensorflow\\workspace\\images\\collectedimages\\Smoker_Alert\\Smoker_Alert.c0bcad9e-714f-11ed-a1b3-18cc18c2ea3d.jpg -> Annotation:C:/tensorflow/TFODCourse/Tensorflow/workspace/images/collectedimages/Smoker_Alert\\Smoker_Alert.c0bcad9e-714f-11ed-a1b3-18cc18c2ea3d.xml\n",
      "Image:C:\\tensorflow\\TFODCourse\\Tensorflow\\workspace\\images\\collectedimages\\Smoker_Alert\\Smoker_Alert.c7f642c0-714f-11ed-b507-18cc18c2ea3d.jpg -> Annotation:C:/tensorflow/TFODCourse/Tensorflow/workspace/images/collectedimages/Smoker_Alert\\Smoker_Alert.c7f642c0-714f-11ed-b507-18cc18c2ea3d.xml\n",
      "Image:C:\\tensorflow\\TFODCourse\\Tensorflow\\workspace\\images\\collectedimages\\Smoker_Alert\\Smoker_Alert.c58e3b06-714f-11ed-b0bf-18cc18c2ea3d.jpg -> Annotation:C:/tensorflow/TFODCourse/Tensorflow/workspace/images/collectedimages/Smoker_Alert\\Smoker_Alert.c58e3b06-714f-11ed-b0bf-18cc18c2ea3d.xml\n",
      "Image:C:\\tensorflow\\TFODCourse\\Tensorflow\\workspace\\images\\collectedimages\\Smoker_Alert\\Smoker_Alert.c325ec86-714f-11ed-b3f6-18cc18c2ea3d.jpg -> Annotation:C:/tensorflow/TFODCourse/Tensorflow/workspace/images/collectedimages/Smoker_Alert\\Smoker_Alert.c325ec86-714f-11ed-b3f6-18cc18c2ea3d.xml\n",
      "Image:C:\\tensorflow\\TFODCourse\\Tensorflow\\workspace\\images\\collectedimages\\Smoker_Alert\\Smoker_Alert.ca5e531e-714f-11ed-9444-18cc18c2ea3d.jpg -> Annotation:C:/tensorflow/TFODCourse/Tensorflow/workspace/images/collectedimages/Smoker_Alert\\Smoker_Alert.ca5e531e-714f-11ed-9444-18cc18c2ea3d.xml\n",
      "Image:C:\\tensorflow\\TFODCourse\\Tensorflow\\workspace\\images\\collectedimages\\Smoker_Alert\\Smoker_Alert.ccc8637e-714f-11ed-9231-18cc18c2ea3d.jpg -> Annotation:C:/tensorflow/TFODCourse/Tensorflow/workspace/images/collectedimages/Smoker_Alert\\Smoker_Alert.ccc8637e-714f-11ed-9231-18cc18c2ea3d.xml\n",
      "Image:C:\\tensorflow\\TFODCourse\\Tensorflow\\workspace\\images\\collectedimages\\Smoker_Alert\\Smoker_Alert.cf3125ac-714f-11ed-880f-18cc18c2ea3d.jpg -> Annotation:C:/tensorflow/TFODCourse/Tensorflow/workspace/images/collectedimages/Smoker_Alert\\Smoker_Alert.cf3125ac-714f-11ed-880f-18cc18c2ea3d.xml\n",
      "Image:C:\\tensorflow\\TFODCourse\\Tensorflow\\workspace\\images\\collectedimages\\Smoker_Alert\\Smoker_Alert.d8d60ac2-714f-11ed-9b45-18cc18c2ea3d.jpg -> Annotation:C:/tensorflow/TFODCourse/Tensorflow/workspace/images/collectedimages/Smoker_Alert\\Smoker_Alert.d8d60ac2-714f-11ed-9b45-18cc18c2ea3d.xml\n",
      "Image:C:\\tensorflow\\TFODCourse\\Tensorflow\\workspace\\images\\collectedimages\\Smoker_Alert\\Smoker_Alert.d19afab8-714f-11ed-bdf2-18cc18c2ea3d.jpg -> Annotation:C:/tensorflow/TFODCourse/Tensorflow/workspace/images/collectedimages/Smoker_Alert\\Smoker_Alert.d19afab8-714f-11ed-bdf2-18cc18c2ea3d.xml\n",
      "Image:C:\\tensorflow\\TFODCourse\\Tensorflow\\workspace\\images\\collectedimages\\Smoker_Alert\\Smoker_Alert.d66d7940-714f-11ed-962c-18cc18c2ea3d.jpg -> Annotation:C:/tensorflow/TFODCourse/Tensorflow/workspace/images/collectedimages/Smoker_Alert\\Smoker_Alert.d66d7940-714f-11ed-962c-18cc18c2ea3d.xml\n",
      "Image:C:\\tensorflow\\TFODCourse\\Tensorflow\\workspace\\images\\collectedimages\\Smoker_Alert\\Smoker_Alert.d404cae6-714f-11ed-acfc-18cc18c2ea3d.jpg -> Annotation:C:/tensorflow/TFODCourse/Tensorflow/workspace/images/collectedimages/Smoker_Alert\\Smoker_Alert.d404cae6-714f-11ed-acfc-18cc18c2ea3d.xml\n",
      "Image:C:\\tensorflow\\TFODCourse\\Tensorflow\\workspace\\images\\collectedimages\\Smoker_Alert\\Smoker_Alert.db3f839c-714f-11ed-a43c-18cc18c2ea3d.jpg -> Annotation:C:/tensorflow/TFODCourse/Tensorflow/workspace/images/collectedimages/Smoker_Alert\\Smoker_Alert.db3f839c-714f-11ed-a43c-18cc18c2ea3d.xml\n",
      "Image:C:\\tensorflow\\TFODCourse\\Tensorflow\\workspace\\images\\collectedimages\\Smoker_Alert\\Smoker_Alert.dda8be24-714f-11ed-b41a-18cc18c2ea3d.jpg -> Annotation:C:/tensorflow/TFODCourse/Tensorflow/workspace/images/collectedimages/Smoker_Alert\\Smoker_Alert.dda8be24-714f-11ed-b41a-18cc18c2ea3d.xml\n",
      "Image:C:\\tensorflow\\TFODCourse\\Tensorflow\\workspace\\images\\collectedimages\\Smoker_Alert\\Smoker_Alert.e4e2417a-714f-11ed-9470-18cc18c2ea3d.jpg -> Annotation:C:/tensorflow/TFODCourse/Tensorflow/workspace/images/collectedimages/Smoker_Alert\\Smoker_Alert.e4e2417a-714f-11ed-9470-18cc18c2ea3d.xml\n",
      "Image:C:\\tensorflow\\TFODCourse\\Tensorflow\\workspace\\images\\collectedimages\\Smoker_Alert\\Smoker_Alert.e9b3f470-714f-11ed-a860-18cc18c2ea3d.jpg -> Annotation:C:/tensorflow/TFODCourse/Tensorflow/workspace/images/collectedimages/Smoker_Alert\\Smoker_Alert.e9b3f470-714f-11ed-a860-18cc18c2ea3d.xml\n",
      "Image:C:\\tensorflow\\TFODCourse\\Tensorflow\\workspace\\images\\collectedimages\\Smoker_Alert\\Smoker_Alert.e011d546-714f-11ed-9810-18cc18c2ea3d.jpg -> Annotation:C:/tensorflow/TFODCourse/Tensorflow/workspace/images/collectedimages/Smoker_Alert\\Smoker_Alert.e011d546-714f-11ed-9810-18cc18c2ea3d.xml\n",
      "Image:C:\\tensorflow\\TFODCourse\\Tensorflow\\workspace\\images\\collectedimages\\Smoker_Alert\\Smoker_Alert.e74b586e-714f-11ed-9891-18cc18c2ea3d.jpg -> Annotation:C:/tensorflow/TFODCourse/Tensorflow/workspace/images/collectedimages/Smoker_Alert\\Smoker_Alert.e74b586e-714f-11ed-9891-18cc18c2ea3d.xml\n",
      "Image:C:\\tensorflow\\TFODCourse\\Tensorflow\\workspace\\images\\collectedimages\\Smoker_Alert\\Smoker_Alert.e279a30a-714f-11ed-b5c4-18cc18c2ea3d.jpg -> Annotation:C:/tensorflow/TFODCourse/Tensorflow/workspace/images/collectedimages/Smoker_Alert\\Smoker_Alert.e279a30a-714f-11ed-b5c4-18cc18c2ea3d.xml\n",
      "Image:C:\\tensorflow\\TFODCourse\\Tensorflow\\workspace\\images\\collectedimages\\Smoker_Alert\\Smoker_Alert.f0edf888-714f-11ed-bda5-18cc18c2ea3d.jpg -> Annotation:C:/tensorflow/TFODCourse/Tensorflow/workspace/images/collectedimages/Smoker_Alert\\Smoker_Alert.f0edf888-714f-11ed-bda5-18cc18c2ea3d.xml\n",
      "Image:C:\\tensorflow\\TFODCourse\\Tensorflow\\workspace\\images\\collectedimages\\Smoker_Alert\\Smoker_Alert.f5bfe986-714f-11ed-8be0-18cc18c2ea3d.jpg -> Annotation:C:/tensorflow/TFODCourse/Tensorflow/workspace/images/collectedimages/Smoker_Alert\\Smoker_Alert.f5bfe986-714f-11ed-8be0-18cc18c2ea3d.xml\n",
      "Image:C:\\tensorflow\\TFODCourse\\Tensorflow\\workspace\\images\\collectedimages\\Smoker_Alert\\Smoker_Alert.f829e842-714f-11ed-bc70-18cc18c2ea3d.jpg -> Annotation:C:/tensorflow/TFODCourse/Tensorflow/workspace/images/collectedimages/Smoker_Alert\\Smoker_Alert.f829e842-714f-11ed-bc70-18cc18c2ea3d.xml\n",
      "Image:C:\\tensorflow\\TFODCourse\\Tensorflow\\workspace\\images\\collectedimages\\Smoker_Alert\\Smoker_Alert.f3570b4a-714f-11ed-ae40-18cc18c2ea3d.jpg -> Annotation:C:/tensorflow/TFODCourse/Tensorflow/workspace/images/collectedimages/Smoker_Alert\\Smoker_Alert.f3570b4a-714f-11ed-ae40-18cc18c2ea3d.xml\n",
      "Image:C:\\tensorflow\\TFODCourse\\Tensorflow\\workspace\\images\\collectedimages\\Smoker_Alert\\Smoker_Alert.fa91da34-714f-11ed-8206-18cc18c2ea3d.jpg -> Annotation:C:/tensorflow/TFODCourse/Tensorflow/workspace/images/collectedimages/Smoker_Alert\\Smoker_Alert.fa91da34-714f-11ed-8206-18cc18c2ea3d.xml\n",
      "Image:C:\\tensorflow\\TFODCourse\\Tensorflow\\workspace\\images\\collectedimages\\Smoker_Alert\\Smoker_Alert.fcfaae86-714f-11ed-bb06-18cc18c2ea3d.jpg -> Annotation:C:/tensorflow/TFODCourse/Tensorflow/workspace/images/collectedimages/Smoker_Alert\\Smoker_Alert.fcfaae86-714f-11ed-bb06-18cc18c2ea3d.xml\n",
      "Image:C:\\tensorflow\\TFODCourse\\Tensorflow\\workspace\\images\\collectedimages\\Smoker_Alert\\Smoker_Alert.ff632f0a-714f-11ed-b43e-18cc18c2ea3d.jpg -> Annotation:C:/tensorflow/TFODCourse/Tensorflow/workspace/images/collectedimages/Smoker_Alert\\Smoker_Alert.ff632f0a-714f-11ed-b43e-18cc18c2ea3d.xml\n"
     ]
    }
   ],
   "source": [
    "!cd {LABELIMG_PATH} && python labelImg.py"
   ]
  },
  {
   "cell_type": "markdown",
   "metadata": {},
   "source": [
    "# 6. Move them into a Training and Testing Partition"
   ]
  },
  {
   "cell_type": "markdown",
   "metadata": {},
   "source": []
  },
  {
   "cell_type": "code",
   "execution_count": 20,
   "metadata": {},
   "outputs": [],
   "source": []
  },
  {
   "cell_type": "code",
   "execution_count": 21,
   "metadata": {},
   "outputs": [],
   "source": []
  },
  {
   "cell_type": "code",
   "execution_count": null,
   "metadata": {},
   "outputs": [],
   "source": []
  }
 ],
 "metadata": {
  "kernelspec": {
   "display_name": "tfod",
   "language": "python",
   "name": "tfod"
  },
  "language_info": {
   "codemirror_mode": {
    "name": "ipython",
    "version": 3
   },
   "file_extension": ".py",
   "mimetype": "text/x-python",
   "name": "python",
   "nbconvert_exporter": "python",
   "pygments_lexer": "ipython3",
   "version": "3.7.4rc1"
  }
 },
 "nbformat": 4,
 "nbformat_minor": 2
}
